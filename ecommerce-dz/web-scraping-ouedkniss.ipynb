{
 "cells": [
  {
   "cell_type": "markdown",
   "metadata": {},
   "source": [
    "# Set-up"
   ]
  },
  {
   "cell_type": "code",
   "execution_count": 71,
   "metadata": {},
   "outputs": [],
   "source": [
    "# load packages\n",
    "import requests\n",
    "from bs4 import BeautifulSoup\n",
    "import pandas as pd"
   ]
  },
  {
   "cell_type": "code",
   "execution_count": 2,
   "metadata": {},
   "outputs": [],
   "source": [
    "# Define the URL of the site\n",
    "base_site = \"https://www.ouedkniss.com/informatique\""
   ]
  },
  {
   "cell_type": "code",
   "execution_count": 3,
   "metadata": {},
   "outputs": [
    {
     "data": {
      "text/plain": [
       "200"
      ]
     },
     "execution_count": 3,
     "metadata": {},
     "output_type": "execute_result"
    }
   ],
   "source": [
    "# sending a request to the webpage\n",
    "response = requests.get(base_site)\n",
    "response.status_code"
   ]
  },
  {
   "cell_type": "code",
   "execution_count": 4,
   "metadata": {},
   "outputs": [],
   "source": [
    "# get the HTML from the webpage\n",
    "html = response.content"
   ]
  },
  {
   "cell_type": "markdown",
   "metadata": {},
   "source": [
    "## Choosing a parser"
   ]
  },
  {
   "cell_type": "markdown",
   "metadata": {},
   "source": [
    "### lxml"
   ]
  },
  {
   "cell_type": "code",
   "execution_count": 10,
   "metadata": {},
   "outputs": [],
   "source": [
    "# convert the HTML to a BeatifulSoup object\n",
    "soup = BeautifulSoup(html, 'lxml')"
   ]
  },
  {
   "cell_type": "code",
   "execution_count": 11,
   "metadata": {},
   "outputs": [],
   "source": [
    "# Exporting the HTML to a file\n",
    "with open('Ouedkinss-informatique.html', 'wb') as file:\n",
    "    file.write(soup.prettify('utf-8'))"
   ]
  },
  {
   "cell_type": "markdown",
   "metadata": {},
   "source": [
    "## Extracting annones "
   ]
  },
  {
   "cell_type": "code",
   "execution_count": 13,
   "metadata": {},
   "outputs": [],
   "source": [
    "divs = soup.find_all('div', {'class': 'annonce'})"
   ]
  },
  {
   "cell_type": "code",
   "execution_count": 61,
   "metadata": {},
   "outputs": [],
   "source": [
    "titles = [div.find('li', {'class' : 'annonce_titre'}) for div in divs]"
   ]
  },
  {
   "cell_type": "code",
   "execution_count": 32,
   "metadata": {},
   "outputs": [
    {
     "data": {
      "text/plain": [
       "<li class=\"annonce_titre\">\n",
       "<a href=\"touchbar-13-3-2017-i5-1ghz-8g-256g-alger-bab-ezzouar-ain-naadja-setif-constantine-algerie-informatique-d22497120?utm_medium=listing\" itemprop=\"url\" target=\"_blank\" title=\"TOUCHBAR 13.3 2017 I5 3.1GHZ 8G 256G\">\n",
       "<h2 itemprop=\"name\">TOUCHBAR 13.3 2017 I5 3.1GHZ 8G 256G</h2> <span>- Informatique</span>\n",
       "</a>\n",
       "</li>"
      ]
     },
     "execution_count": 32,
     "metadata": {},
     "output_type": "execute_result"
    }
   ],
   "source": [
    "titles[0]"
   ]
  },
  {
   "cell_type": "code",
   "execution_count": 63,
   "metadata": {},
   "outputs": [
    {
     "data": {
      "text/plain": [
       "<h2 itemprop=\"name\">TOUCHBAR 13.3 2017 I5 3.1GHZ 8G 256G</h2>"
      ]
     },
     "execution_count": 63,
     "metadata": {},
     "output_type": "execute_result"
    }
   ],
   "source": [
    "titles[0].find('h2')"
   ]
  },
  {
   "cell_type": "code",
   "execution_count": 64,
   "metadata": {},
   "outputs": [
    {
     "data": {
      "text/plain": [
       "[['TOUCHBAR 13.3 2017 I5 3.1GHZ 8G 256G'],\n",
       " ['Cable Console Cisco 72-3383-01DB9>RJ45'],\n",
       " [\"TOUCHBAR 13.3'' 2019 I5 1.4GHZ 8G 128G\"],\n",
       " ['Asus'],\n",
       " ['ASUS DUAL RTX208TI OC 11G'],\n",
       " ['PC GAMING'],\n",
       " ['ASUS TUF 3GTX1660S O6G GAMING '],\n",
       " ['HP'],\n",
       " ['ASUS DUAL RTX2060 O6G'],\n",
       " ['Manette PS3 sans fil original'],\n",
       " ['ASUS TUF GTX1660 O6G GAMING '],\n",
       " ['Modem Huawei 4g lte'],\n",
       " ['ASUS VP278H'],\n",
       " ['Asus gaimer'],\n",
       " ['ASUS ROG STRIX XG32VQR'],\n",
       " ['Inité G2020'],\n",
       " ['MSI OPTIX MAG322 CQRV'],\n",
       " ['PC Gamer'],\n",
       " ['ASUS VG248QE'],\n",
       " ['Pc carte mer processor ram'],\n",
       " ['ASUS TUF Z390-PLUS GAMING WIFI'],\n",
       " ['Dell Inspiron 15 5567 i5 7eme gen'],\n",
       " ['ASUS TRIX B450-F GAMING '],\n",
       " ['PC Gamer'],\n",
       " ['MSI GTX1650 GAMING X 4G'],\n",
       " ['Imprimante canon mg5750 en panne '],\n",
       " ['ASUS VP248H'],\n",
       " ['PC GAMING - CONFIG I3 7100'],\n",
       " ['PC GAMING- I3 7100'],\n",
       " ['PC GAMING- CONFIG RYZEN7 3800X'],\n",
       " ['PC GAMING - CONFIG RYZEN9 3900X'],\n",
       " ['PC GAMING - CONFIG RYZEN 7 3800X'],\n",
       " ['PC GAMING - CONFIG RYZEN5 3600X'],\n",
       " ['PC GAMING - CONFIG RYZEN5 3600'],\n",
       " ['PC GAMING - CONFIG RYZEN5 2400G **'],\n",
       " ['PC GAMING - CONFIG RYZEN5 2400G'],\n",
       " ['PC GAMING - CONFIGI5 9600K'],\n",
       " ['PC GAMING - CONFIG I5 9400F'],\n",
       " ['PC GAMING - CONFIG I3 9100F'],\n",
       " ['Pc gaming - config i3 7100'],\n",
       " ['ALL IN ONE LENOVO S200Z'],\n",
       " ['DELL LATITUDE 5470 i7 6820HQ 16GB 512'],\n",
       " ['Thermaltake 650 Watt ThoughPower RGB\\xa0 '],\n",
       " ['DELL LATITUDE 7490 i5 8GB 256G TACTIL'],\n",
       " ['Dell Latitude 7490 i5 8250U 8Go 256SSD'],\n",
       " ['HP Probook 640-G1 I5-4300M 4G/500GO'],\n",
       " ['DELL Latitude 7480 i5 7200 8GB 256SSD '],\n",
       " ['DELL LATITUDE 7480 i5 6300 8GO 256SSD'],\n",
       " ['Thermaltake 750 Watt Smart BX1 80 + \\xa0 '],\n",
       " ['RAM LAPTOP DDR4 8/16 GB SSD M.2 NVME '],\n",
       " ['IMPRIMANTE CANON PIXMA TS6020 WIFI '],\n",
       " ['CANON 635 Laser Couleur MF635 Fax Wifi'],\n",
       " ['Thermaltake 750 Watt Smart Pro RGB 80+'],\n",
       " ['IMPRIMANTE EPSON ECOTANK L3156 '],\n",
       " ['IMPRIMANTE EPSON ECOTANK L3110 '],\n",
       " ['IMPRIMANTE ECOTANK EPSON L6170'],\n",
       " ['IMPRIMANTE EPSON ECOTANK L6160'],\n",
       " ['IMPRIMANTE EPSON ECOTANK L4150'],\n",
       " ['CANON 5050 PIXMA TS5050 5053 WIFI'],\n",
       " ['DELL LATITUDE 5490 i7 8ém 16GB 512SSD ']]"
      ]
     },
     "execution_count": 64,
     "metadata": {},
     "output_type": "execute_result"
    }
   ],
   "source": [
    "title_names = [[t.find('h2').string] for t in titles if t != None] \n",
    "title_names "
   ]
  },
  {
   "cell_type": "code",
   "execution_count": 66,
   "metadata": {},
   "outputs": [],
   "source": [
    "prices = [div.find('span', {'itemprop' : 'price'}) for div in divs]"
   ]
  },
  {
   "cell_type": "code",
   "execution_count": 70,
   "metadata": {},
   "outputs": [
    {
     "data": {
      "text/plain": [
       "[['158000 DA Négociable'],\n",
       " ['4500 DA Négociable'],\n",
       " ['180000 DA Négociable'],\n",
       " ['25000 DA Fixe'],\n",
       " ['269000 DA Fixe'],\n",
       " ['58 DA Offert'],\n",
       " ['65900 DA Fixe'],\n",
       " ['40000 DA Fixe'],\n",
       " ['85000 DA Fixe'],\n",
       " ['2500 DA Négociable'],\n",
       " ['58000 DA Fixe'],\n",
       " ['4200 DA Fixe'],\n",
       " ['38500 DA Fixe'],\n",
       " ['75000 DA Négociable'],\n",
       " ['148000 DA Fixe'],\n",
       " ['13000 DA Négociable'],\n",
       " ['109000 DA Fixe'],\n",
       " ['1 DA Négociable'],\n",
       " ['47500 DA Fixe'],\n",
       " ['20000 DA Fixe'],\n",
       " ['42900 DA Fixe'],\n",
       " ['82000 DA Négociable'],\n",
       " ['27500 DA Fixe'],\n",
       " ['36000 DA Fixe'],\n",
       " ['27500 DA Fixe'],\n",
       " ['77900 DA Fixe'],\n",
       " ['82900 DA Fixe'],\n",
       " ['191000 DA Fixe'],\n",
       " ['275900 DA Fixe'],\n",
       " ['209000 DA Fixe'],\n",
       " ['141900 DA Fixe'],\n",
       " ['128900 DA Fixe'],\n",
       " ['66900 DA Fixe'],\n",
       " ['71000 DA Fixe'],\n",
       " ['144900 DA Fixe'],\n",
       " ['122900 DA Fixe'],\n",
       " ['83900 DA Fixe'],\n",
       " ['74900 DA Fixe'],\n",
       " ['58000 DA Fixe'],\n",
       " ['79000 DA Négociable'],\n",
       " ['87000 DA Négociable'],\n",
       " ['82000 DA Négociable'],\n",
       " ['40000 DA Fixe'],\n",
       " ['67000 DA Négociable'],\n",
       " ['59000 DA Négociable'],\n",
       " ['7000 DA Négociable'],\n",
       " ['15500 DA Négociable'],\n",
       " ['63000 DA Négociable'],\n",
       " ['29900 DA Négociable'],\n",
       " ['23900 DA Négociable'],\n",
       " ['58500 DA Négociable'],\n",
       " ['52500 DA Négociable'],\n",
       " ['39900 DA Négociable'],\n",
       " ['15500 DA Négociable'],\n",
       " ['99000 DA Négociable']]"
      ]
     },
     "execution_count": 70,
     "metadata": {},
     "output_type": "execute_result"
    }
   ],
   "source": [
    "prices_values = [[t.string] for t in titles if t != None] \n",
    "prices_values"
   ]
  },
  {
   "cell_type": "code",
   "execution_count": 95,
   "metadata": {},
   "outputs": [],
   "source": [
    "items = []\n",
    "for div in divs :\n",
    "    if div != None :\n",
    "        \n",
    "        item_title = div.find('li', {'class' : 'annonce_titre'})\n",
    "        if item_title != None :\n",
    "            item_name = item_title.find('h2').string\n",
    "        else :\n",
    "            item_price = \"Article sans titre ???\"\n",
    "            \n",
    "        price = div.find('span', {'itemprop' : 'price'})\n",
    "        if price != None :\n",
    "            item_price = price.string\n",
    "        else :\n",
    "            item_price = \"\"\n",
    "\n",
    "        items.append({'name' : item_name, 'price' : item_price})"
   ]
  },
  {
   "cell_type": "code",
   "execution_count": 97,
   "metadata": {},
   "outputs": [],
   "source": [
    "df = pd.DataFrame(items)"
   ]
  },
  {
   "cell_type": "code",
   "execution_count": 99,
   "metadata": {},
   "outputs": [
    {
     "data": {
      "text/html": [
       "<div>\n",
       "<style scoped>\n",
       "    .dataframe tbody tr th:only-of-type {\n",
       "        vertical-align: middle;\n",
       "    }\n",
       "\n",
       "    .dataframe tbody tr th {\n",
       "        vertical-align: top;\n",
       "    }\n",
       "\n",
       "    .dataframe thead th {\n",
       "        text-align: right;\n",
       "    }\n",
       "</style>\n",
       "<table border=\"1\" class=\"dataframe\">\n",
       "  <thead>\n",
       "    <tr style=\"text-align: right;\">\n",
       "      <th></th>\n",
       "      <th>name</th>\n",
       "      <th>price</th>\n",
       "    </tr>\n",
       "  </thead>\n",
       "  <tbody>\n",
       "    <tr>\n",
       "      <td>0</td>\n",
       "      <td>TOUCHBAR 13.3 2017 I5 3.1GHZ 8G 256G</td>\n",
       "      <td>158000 DA Négociable</td>\n",
       "    </tr>\n",
       "    <tr>\n",
       "      <td>1</td>\n",
       "      <td>Cable Console Cisco 72-3383-01DB9&gt;RJ45</td>\n",
       "      <td>4500 DA Négociable</td>\n",
       "    </tr>\n",
       "    <tr>\n",
       "      <td>2</td>\n",
       "      <td>TOUCHBAR 13.3'' 2019 I5 1.4GHZ 8G 128G</td>\n",
       "      <td>180000 DA Négociable</td>\n",
       "    </tr>\n",
       "    <tr>\n",
       "      <td>3</td>\n",
       "      <td>Asus</td>\n",
       "      <td>25000 DA Fixe</td>\n",
       "    </tr>\n",
       "    <tr>\n",
       "      <td>4</td>\n",
       "      <td>ASUS DUAL RTX208TI OC 11G</td>\n",
       "      <td>269000 DA Fixe</td>\n",
       "    </tr>\n",
       "  </tbody>\n",
       "</table>\n",
       "</div>"
      ],
      "text/plain": [
       "                                     name                 price\n",
       "0    TOUCHBAR 13.3 2017 I5 3.1GHZ 8G 256G  158000 DA Négociable\n",
       "1  Cable Console Cisco 72-3383-01DB9>RJ45    4500 DA Négociable\n",
       "2  TOUCHBAR 13.3'' 2019 I5 1.4GHZ 8G 128G  180000 DA Négociable\n",
       "3                                    Asus         25000 DA Fixe\n",
       "4               ASUS DUAL RTX208TI OC 11G        269000 DA Fixe"
      ]
     },
     "execution_count": 99,
     "metadata": {},
     "output_type": "execute_result"
    }
   ],
   "source": [
    "df.head()"
   ]
  },
  {
   "cell_type": "code",
   "execution_count": 101,
   "metadata": {},
   "outputs": [],
   "source": [
    "df.to_csv('ouedkniss_informatique_test.csv', index = False, header = True)"
   ]
  }
 ],
 "metadata": {
  "kernelspec": {
   "display_name": "Python 3",
   "language": "python",
   "name": "python3"
  },
  "language_info": {
   "codemirror_mode": {
    "name": "ipython",
    "version": 3
   },
   "file_extension": ".py",
   "mimetype": "text/x-python",
   "name": "python",
   "nbconvert_exporter": "python",
   "pygments_lexer": "ipython3",
   "version": "3.7.3"
  }
 },
 "nbformat": 4,
 "nbformat_minor": 2
}
